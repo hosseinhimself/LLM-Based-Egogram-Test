{
  "nbformat": 4,
  "nbformat_minor": 0,
  "metadata": {
    "colab": {
      "provenance": [],
      "authorship_tag": "ABX9TyM1AiZ9xNSRphmuVbxqcjuN",
      "include_colab_link": true
    },
    "kernelspec": {
      "name": "python3",
      "display_name": "Python 3"
    },
    "language_info": {
      "name": "python"
    }
  },
  "cells": [
    {
      "cell_type": "markdown",
      "metadata": {
        "id": "view-in-github",
        "colab_type": "text"
      },
      "source": [
        "<a href=\"https://colab.research.google.com/github/hosseinhimself/LLM-Based-Egogram-Test/blob/main/LLM_Based_Egogram_test.ipynb\" target=\"_parent\"><img src=\"https://colab.research.google.com/assets/colab-badge.svg\" alt=\"Open In Colab\"/></a>"
      ]
    },
    {
      "cell_type": "code",
      "execution_count": 1,
      "metadata": {
        "colab": {
          "base_uri": "https://localhost:8080/"
        },
        "cellView": "form",
        "id": "HfEmO4AnQ838",
        "outputId": "c27ea0a0-47da-435e-b87b-ae22423bda4d"
      },
      "outputs": [
        {
          "output_type": "stream",
          "name": "stdout",
          "text": [
            "\u001b[2K     \u001b[90m━━━━━━━━━━━━━━━━━━━━━━━━━━━━━━━━━━━━━━━━\u001b[0m \u001b[32m810.5/810.5 kB\u001b[0m \u001b[31m3.3 MB/s\u001b[0m eta \u001b[36m0:00:00\u001b[0m\n",
            "\u001b[2K     \u001b[90m━━━━━━━━━━━━━━━━━━━━━━━━━━━━━━━━━━━━━━━━\u001b[0m \u001b[32m1.8/1.8 MB\u001b[0m \u001b[31m3.7 MB/s\u001b[0m eta \u001b[36m0:00:00\u001b[0m\n",
            "\u001b[2K     \u001b[90m━━━━━━━━━━━━━━━━━━━━━━━━━━━━━━━━━━━━━━━━\u001b[0m \u001b[32m269.1/269.1 kB\u001b[0m \u001b[31m2.9 MB/s\u001b[0m eta \u001b[36m0:00:00\u001b[0m\n",
            "\u001b[2K     \u001b[90m━━━━━━━━━━━━━━━━━━━━━━━━━━━━━━━━━━━━━━━━\u001b[0m \u001b[32m71.6/71.6 kB\u001b[0m \u001b[31m2.6 MB/s\u001b[0m eta \u001b[36m0:00:00\u001b[0m\n",
            "\u001b[2K     \u001b[90m━━━━━━━━━━━━━━━━━━━━━━━━━━━━━━━━━━━━━━━━\u001b[0m \u001b[32m49.4/49.4 kB\u001b[0m \u001b[31m2.1 MB/s\u001b[0m eta \u001b[36m0:00:00\u001b[0m\n",
            "\u001b[2K     \u001b[90m━━━━━━━━━━━━━━━━━━━━━━━━━━━━━━━━━━━━━━━━\u001b[0m \u001b[32m53.0/53.0 kB\u001b[0m \u001b[31m1.9 MB/s\u001b[0m eta \u001b[36m0:00:00\u001b[0m\n",
            "\u001b[2K     \u001b[90m━━━━━━━━━━━━━━━━━━━━━━━━━━━━━━━━━━━━━━━━\u001b[0m \u001b[32m138.5/138.5 kB\u001b[0m \u001b[31m773.9 kB/s\u001b[0m eta \u001b[36m0:00:00\u001b[0m\n",
            "\u001b[2K     \u001b[90m━━━━━━━━━━━━━━━━━━━━━━━━━━━━━━━━━━━━━━━━\u001b[0m \u001b[32m137.4/137.4 kB\u001b[0m \u001b[31m2.1 MB/s\u001b[0m eta \u001b[36m0:00:00\u001b[0m\n",
            "\u001b[?25h"
          ]
        }
      ],
      "source": [
        "# @title Requirements\n",
        "! pip install -q -U langchain\n",
        "! pip install -q langchain-google-genai\n",
        "\n",
        "from langchain import PromptTemplate\n",
        "from langchain.document_loaders import WebBaseLoader\n",
        "from langchain.schema import StrOutputParser\n",
        "from langchain.schema.prompt_template import format_document\n",
        "from langchain.chains import LLMChain\n",
        "from langchain_google_genai import ChatGoogleGenerativeAI\n",
        "\n",
        "import ast\n",
        "import os\n",
        "import getpass\n",
        "import matplotlib.pyplot as plt\n"
      ]
    },
    {
      "cell_type": "code",
      "source": [
        "# @title Set API Key\n",
        "api_key = getpass.getpass('Gemini API Key:')\n",
        "os.environ['GOOGLE_API_KEY'] = api_key"
      ],
      "metadata": {
        "colab": {
          "base_uri": "https://localhost:8080/"
        },
        "cellView": "form",
        "id": "MTQr3USVRJHp",
        "outputId": "b9389364-f232-4ef3-d2ed-50c9edcc40f7"
      },
      "execution_count": 36,
      "outputs": [
        {
          "name": "stdout",
          "output_type": "stream",
          "text": [
            "Gemini API Key:··········\n"
          ]
        }
      ]
    },
    {
      "cell_type": "code",
      "source": [
        "# @title Prompts\n",
        "initial_task_prompt = '''\n",
        "  You are a psychologist and you have the duty to ask questions in order to find egogram (child, adult, parent) of the person answering the questions can be identified.\n",
        "  Ask {number_of_questions} questions, where each question has an answer between numbers 1 to 5, where 1 is very low, 2 is low, 3 is average, 4 is high, and 5 is very high.\n",
        "  the questions must be related to emotions, personality traits and also about emotions in hypothetical situations.\n",
        "  give me the questions in this format:\n",
        "  Q1:<<question text>>\\nQ2:<<question text>>\\n...\\nQ20:<<question text>>\n",
        "  just write questions and dont add any other informations\n",
        "  '''\n",
        "\n",
        "welcome = '''\n",
        "  **Welcome!**\n",
        "  To determine your egogram, please answer the following questions by selecting a number between 1 and 5, where:\n",
        "  1 = Very low\n",
        "  2 = Low\n",
        "  3 = Average\n",
        "  4 = High\n",
        "  5 = Very high\n",
        "  '''\n",
        "\n",
        "results_prompt = '''\n",
        "  You are a psychologist and your task is to determine the percentage of the user's egogram (child, adult, parent) based on the questions that have already been asked. \\\n",
        "  The questions are related to emotions, personality traits and also about emotions in hypothetical situations. their answers are from 1 to 5 as follows:\\\n",
        "  1 = Very low \\\n",
        "  2 = Low \\\n",
        "  3 = Average \\\n",
        "  4 = High \\\n",
        "  5 = Very high \\\n",
        "  Please disregard any questions that have not been answered or have received answers unrelated to the topic.\n",
        "  The questions and their answers are given in the following format as a python dictionary:\n",
        "  '<<question>>':'<<answer>>',...\n",
        "  Return the answer to me exactly in the following format. ego names are string and in '' mark and numbers must be float without \"%\". and do not write anything else extra:\n",
        "  'Child-Ego':<<result in percent>>, 'Parent-Ego':<<result in percent>>, 'Adult-Ego':<<result in percent>>\n",
        "\n",
        "\n",
        "  questions and answers:\n",
        "\n",
        "  {answers}\n",
        "\n",
        "  '''\n"
      ],
      "metadata": {
        "cellView": "form",
        "id": "cZVhstjdRRSP"
      },
      "execution_count": 28,
      "outputs": []
    },
    {
      "cell_type": "code",
      "source": [
        "# @title Run the test\n",
        "llm_model = ChatGoogleGenerativeAI(model=\"gemini-pro\",\n",
        "                 temperature=0.7, top_p=0.85)\n",
        "\n",
        "def generate_questions(number_of_questions):\n",
        "  prompt = PromptTemplate(input_variables=[\"number_of_questions\"], template = initial_task_prompt)\n",
        "  # define chain\n",
        "  chain = LLMChain(\n",
        "      llm=llm_model,\n",
        "      prompt=prompt,\n",
        "  )\n",
        "  questions = chain.run({'number_of_questions':number_of_questions})\n",
        "  return questions.split('\\n')\n",
        "\n",
        "def show_results(answers):\n",
        "  res_prompt = PromptTemplate(input_variables=['answers'], template = results_prompt)\n",
        "  res_chain = LLMChain(\n",
        "    llm=llm_model,\n",
        "    prompt=res_prompt,\n",
        "  )\n",
        "  return res_chain.run({'answers':answers})\n",
        "\n",
        "def main_test():\n",
        "  print(welcome)\n",
        "  questions = generate_questions(10)\n",
        "  answers = {}\n",
        "  for q in questions:\n",
        "    answers[q] = input(f'{q} ')\n",
        "\n",
        "  print()\n",
        "  result = show_results(answers)\n",
        "\n",
        "  answers_dict = ast.literal_eval(f\"{{{result}}}\")\n",
        "\n",
        "  # Extract keys (labels) and values (sizes)\n",
        "  labels = list(answers_dict.keys())\n",
        "  sizes = list(answers_dict.values())\n",
        "\n",
        "  # Plotting the pie chart\n",
        "  plt.figure(figsize=(4, 4))  # Define the figure size (optional)\n",
        "  plt.pie(sizes, labels=labels, autopct='%1.1f%%', startangle=140)\n",
        "\n",
        "  # Add a title\n",
        "  plt.title('Your Egogram Chart')\n",
        "\n",
        "  # Show the plot\n",
        "  plt.show()\n",
        "\n",
        "main_test()"
      ],
      "metadata": {
        "colab": {
          "base_uri": "https://localhost:8080/",
          "height": 714
        },
        "cellView": "form",
        "id": "qJ1b6wiIRVhO",
        "outputId": "e3fee360-e7f6-445f-9f9a-9c8ed7eec7a4"
      },
      "execution_count": 37,
      "outputs": [
        {
          "output_type": "stream",
          "name": "stdout",
          "text": [
            "\n",
            "  **Welcome!**\n",
            "  To determine your egogram, please answer the following questions by selecting a number between 1 and 5, where:\n",
            "  1 = Very low\n",
            "  2 = Low\n",
            "  3 = Average\n",
            "  4 = High\n",
            "  5 = Very high\n",
            "  \n",
            "Q1: How often do you feel overwhelmed by your emotions? 5\n",
            "Q2: Do you consider yourself to be a confident person? 4\n",
            "Q3: How do you react when someone criticizes you? 3\n",
            "Q4: Are you comfortable expressing your feelings to others? 2\n",
            "Q5: How often do you experience feelings of guilt or shame? 3\n",
            "Q6: How do you cope with stress? 4\n",
            "Q7: If you were in a situation where you felt threatened, how likely would you be to stand up for yourself? 2\n",
            "Q8: How often do you feel like you need to please others? 1\n",
            "Q9: How well do you control your impulses? 4\n",
            "Q10: If you made a mistake, how likely would you be to apologize? 3\n",
            "\n"
          ]
        },
        {
          "output_type": "display_data",
          "data": {
            "text/plain": [
              "<Figure size 400x400 with 1 Axes>"
            ],
            "image/png": "[encoded data removed]"
          },
          "metadata": {}
        }
      ]
    }
  ]
}